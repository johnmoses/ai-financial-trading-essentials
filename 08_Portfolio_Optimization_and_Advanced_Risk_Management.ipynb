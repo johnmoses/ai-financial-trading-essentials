{
 "cells": [
  {
   "cell_type": "markdown",
   "metadata": {},
   "source": [
    "# Chapter 8: Portfolio Optimization and Advanced Risk Management\n",
    "\n",
    "## 1. AI-Driven Portfolio Construction: Black-Litterman with ML Enhancements\n",
    "\n",
    "The Black-Litterman model is a sophisticated method for portfolio optimization that combines market equilibrium with an investor's specific views. AI and machine learning can significantly enhance this model:\n",
    "\n",
    "- ML for Return Forecasting: Use supervised learning models (e.g., regression, neural networks) to predict asset returns with greater accuracy. These predictions serve as more reliable inputs for the Black-Litterman model.\n",
    "- NLP for View Generation: Employ Natural Language Processing (NLP) to analyze vast amounts of unstructured data like news articles, social media sentiment, and analyst reports. This allows for the automatic generation of investor \"views\" and their associated confidence levels, which are crucial components of the Black-Litterman model.\n",
    "- Reinforcement Learning for Dynamic Adjustments: Train reinforcement learning agents to continuously monitor market conditions and dynamically adjust the portfolio's asset allocation. This creates a self-improving system that adapts to new information and optimizes for long-term rewards."
   ]
  },
  {
   "cell_type": "code",
   "execution_count": 1,
   "id": "43653244",
   "metadata": {},
   "outputs": [
    {
     "name": "stdout",
     "output_type": "stream",
     "text": [
      "Predicted Returns for the next period:\n",
      "[0.00476274 0.00512867 0.0053833  0.00537117 0.0044801 ]\n"
     ]
    }
   ],
   "source": [
    "import numpy as np\n",
    "from sklearn.linear_model import LinearRegression\n",
    "\n",
    "# Sample historical returns (features) and future returns (target)\n",
    "# In a real scenario, you would have a much larger dataset\n",
    "X_train = np.random.rand(100, 5)  # 100 days, 5 assets\n",
    "y_train = np.random.rand(100, 5) * 0.01 # Daily returns\n",
    "\n",
    "# Train a simple linear regression model for each asset\n",
    "models = [LinearRegression().fit(X_train, y_train[:, i]) for i in range(5)]\n",
    "\n",
    "# Use the trained models to predict future returns\n",
    "# These predictions can be used as the 'views' in a Black-Litterman model\n",
    "predicted_returns = np.array([model.predict(X_train[-1:]) for model in models]).flatten()\n",
    "\n",
    "print(\"Predicted Returns for the next period:\")\n",
    "print(predicted_returns)\n"
   ]
  },
  {
   "cell_type": "markdown",
   "metadata": {},
   "source": [
    "## 2. Dynamic Rebalancing: Trigger-Based and Time-Based Algorithms\n",
    "\n",
    "Dynamic rebalancing ensures that your portfolio stays aligned with your desired asset allocation. The two primary methods are:\n",
    "\n",
    "- Time-Based Rebalancing:\n",
    "How it works: The portfolio is rebalanced at predetermined intervals, such as daily, monthly, or quarterly.\n",
    "Pros: Simple to implement and maintain.\n",
    "Cons: Can be inefficient in volatile markets, either by rebalancing too often or not often enough.\n",
    "- Trigger-Based Rebalancing:\n",
    "How it works: Rebalancing is triggered only when an asset class deviates from its target allocation by a predefined percentage (e.g., 5%).\n",
    "Pros: More responsive to market movements and can potentially lead to better performance.\n",
    "Cons: Can result in higher transaction costs due to more frequent trading in volatile periods."
   ]
  },
  {
   "cell_type": "code",
   "execution_count": 2,
   "id": "6c1be0f1",
   "metadata": {},
   "outputs": [
    {
     "name": "stdout",
     "output_type": "stream",
     "text": [
      "Rebalancing portfolio on 2023-02-01...\n"
     ]
    },
    {
     "data": {
      "text/plain": [
       "False"
      ]
     },
     "execution_count": 2,
     "metadata": {},
     "output_type": "execute_result"
    }
   ],
   "source": [
    "import pandas as pd\n",
    "\n",
    "# --- Time-Based Rebalancing ---\n",
    "def time_based_rebalancing(portfolio_values, target_weights, last_rebalance_date, current_date, frequency='M'):\n",
    "    \"\"\"Rebalances the portfolio at a fixed time interval (e.g., monthly).\"\"\"\n",
    "    if pd.to_datetime(current_date).to_period(frequency) > pd.to_datetime(last_rebalance_date).to_period(frequency):\n",
    "        print(f\"Rebalancing portfolio on {current_date}...\")\n",
    "        # In a real implementation, you would execute trades to bring the\n",
    "        # portfolio back to the target weights.\n",
    "        return True\n",
    "    return False\n",
    "\n",
    "# --- Trigger-Based Rebalancing ---\n",
    "def trigger_based_rebalancing(current_weights, target_weights, threshold=0.05):\n",
    "    \"\"\"Rebalances the portfolio when any asset's weight deviates by more than the threshold.\"\"\"\n",
    "    if np.any(np.abs(current_weights - target_weights) > threshold):\n",
    "        print(\"Rebalancing portfolio due to weight deviation...\")\n",
    "        # In a real implementation, you would execute trades.\n",
    "        return True\n",
    "    return False\n",
    "\n",
    "# Example Usage\n",
    "target_weights = np.array([0.4, 0.3, 0.2, 0.1])\n",
    "current_weights = np.array([0.45, 0.28, 0.17, 0.1])\n",
    "\n",
    "time_based_rebalancing(None, target_weights, '2023-01-15', '2023-02-01')\n",
    "trigger_based_rebalancing(current_weights, target_weights)\n"
   ]
  },
  {
   "cell_type": "markdown",
   "metadata": {},
   "source": [
    "## 3. Risk Parity and Alternative Weighting Schemes\n",
    "\n",
    "Risk parity is a portfolio construction approach that focuses on equalizing the risk contribution of each asset, rather than the capital allocation.\n",
    "\n",
    "Key Concept: \n",
    "Instead of a 60/40 stock/bond portfolio where stocks might contribute 90% of the risk, a risk parity approach would balance the risk contributions of both asset classes.\n",
    "\n",
    "Benefits:\n",
    "- Enhanced Diversification: Reduces the concentration of risk in a small number of assets.\n",
    "- Lower Volatility: A more balanced risk profile can lead to a smoother return stream.\n",
    "- Improved Risk-Adjusted Returns: By managing risk more effectively, risk parity aims to deliver better returns for the amount of risk taken.\n"
   ]
  },
  {
   "cell_type": "code",
   "execution_count": 3,
   "id": "dedbc918",
   "metadata": {},
   "outputs": [
    {
     "name": "stdout",
     "output_type": "stream",
     "text": [
      "Risk Parity Weights:\n",
      "Asset A    0.304621\n",
      "Asset B    0.142555\n",
      "Asset C    0.552824\n",
      "dtype: float64\n"
     ]
    }
   ],
   "source": [
    "import numpy as np\n",
    "import pandas as pd\n",
    "\n",
    "def calculate_risk_parity_weights(returns_df):\n",
    "    \"\"\"Calculates risk parity weights based on the inverse of volatility.\"\"\"\n",
    "    # Calculate the volatility (standard deviation) of each asset\n",
    "    volatilities = returns_df.std()\n",
    "\n",
    "    # The weight of each asset is proportional to the inverse of its volatility\n",
    "    inverse_volatilities = 1 / volatilities\n",
    "    risk_parity_weights = inverse_volatilities / np.sum(inverse_volatilities)\n",
    "\n",
    "    return risk_parity_weights\n",
    "\n",
    "# Example with dummy returns data\n",
    "returns_data = {\n",
    "    'Asset A': np.random.normal(0, 0.01, 100),\n",
    "    'Asset B': np.random.normal(0, 0.02, 100),\n",
    "    'Asset C': np.random.normal(0, 0.005, 100),\n",
    "}\n",
    "returns_df = pd.DataFrame(returns_data)\n",
    "\n",
    "weights = calculate_risk_parity_weights(returns_df)\n",
    "print(\"Risk Parity Weights:\")\n",
    "print(weights)\n"
   ]
  },
  {
   "cell_type": "markdown",
   "metadata": {},
   "source": [
    "## 4. Advanced Risk Controls: Position Sizing, Correlation Monitoring, Tail Risk Management\n",
    "\n",
    "Effective risk management goes beyond simple diversification. Advanced controls include:\n",
    "\n",
    "- Position Sizing: Determining the optimal amount of capital to allocate to each position. This can be based on factors like the asset's volatility, the Kelly Criterion, or your own risk tolerance.\n",
    "- Correlation Monitoring: Actively tracking the correlation between assets in your portfolio. Correlations can change, especially during market stress, and what was once a diversified portfolio can become highly correlated.\n",
    "- Tail Risk Management: Implementing strategies to protect against rare but extreme market events (i.e., \"black swans\"). This can involve using options, futures, or other derivatives to hedge against catastrophic losses."
   ]
  },
  {
   "cell_type": "code",
   "execution_count": 4,
   "id": "e5ca089d",
   "metadata": {},
   "outputs": [],
   "source": [
    "# --- Position Sizing (Volatility-Based) ---\n",
    "def get_position_size(account_size, risk_per_trade, volatility):\n",
    "    \"\"\"Calculates position size based on volatility.\"\"\"\n",
    "    return (account_size * risk_per_trade) / volatility\n",
    "\n",
    "# --- Correlation Monitoring ---\n",
    "def monitor_correlations(returns_df, threshold=0.8):\n",
    "    \"\"\"Monitors the correlation matrix and flags high correlations.\"\"\"\n",
    "    corr_matrix = returns_df.corr()\n",
    "    high_corr = corr_matrix[(corr_matrix > threshold) & (corr_matrix < 1.0)]\n",
    "    if not high_corr.isnull().all().all():\n",
    "        print(\"High Correlation Alert:\")\n",
    "        print(high_corr.dropna(how='all', axis=1).dropna(how='all'))\n",
    "\n",
    "# --- Tail Risk Management (Simple Stop-Loss) ---\n",
    "def check_stop_loss(current_price, entry_price, stop_loss_pct=0.1):\n",
    "    \"\"\"Checks if a stop-loss has been triggered.\"\"\"\n",
    "    if current_price < entry_price * (1 - stop_loss_pct):\n",
    "        print(f\"Stop-loss triggered at {current_price:.2f}!\")\n",
    "        return True\n",
    "    return False\n"
   ]
  },
  {
   "cell_type": "markdown",
   "metadata": {},
   "source": [
    "## 5. Drawdown Management and Recovery Strategies\n",
    "\n",
    "Drawdown management is about limiting the magnitude of losses during market downturns.\n",
    "\n",
    "Drawdown Management Techniques:\n",
    "\n",
    "- Stop-Loss Orders: Automatically sell a security if it falls to a certain price.\n",
    "- Trailing Stops: A stop-loss order that moves up as the price of the security rises, locking in profits while still protecting against a downturn.\n",
    "\n",
    "Recovery Strategies:\n",
    "- Have a Plan: A pre-defined plan for how to act after a significant drawdown.\n",
    "- Rebalancing: Rebalancing your portfolio can help you buy low and sell high, positioning you for a recovery.\n",
    "- Scaling into Positions: Gradually adding to positions as the market recovers."
   ]
  },
  {
   "cell_type": "code",
   "execution_count": 5,
   "id": "aed93789",
   "metadata": {},
   "outputs": [
    {
     "name": "stdout",
     "output_type": "stream",
     "text": [
      "Max Drawdown: -29.31%\n"
     ]
    }
   ],
   "source": [
    "import pandas as pd\n",
    "\n",
    "def calculate_drawdown(portfolio_returns):\n",
    "    \"\"\"Calculates the drawdown of a portfolio.\"\"\"\n",
    "    cumulative_returns = (1 + portfolio_returns).cumprod()\n",
    "    peak = cumulative_returns.expanding(min_periods=1).max()\n",
    "    drawdown = (cumulative_returns - peak) / peak\n",
    "    return drawdown\n",
    "\n",
    "# Example with dummy returns\n",
    "portfolio_returns = pd.Series(np.random.normal(0.001, 0.02, 252))\n",
    "drawdowns = calculate_drawdown(portfolio_returns)\n",
    "\n",
    "print(\"Max Drawdown:\", f\"{drawdowns.min()*100:.2f}%\")\n"
   ]
  },
  {
   "cell_type": "markdown",
   "metadata": {},
   "source": [
    "## 6. Multi-Strategy Portfolio Orchestration\n",
    "\n",
    "This involves combining multiple, distinct trading strategies into a single, unified portfolio.\n",
    "\n",
    "The Goal: \n",
    "\n",
    "To create a portfolio that is more resilient and profitable than any single strategy on its own.\n",
    "\n",
    "Key Principle: \n",
    "\n",
    "- Select strategies with low correlation to each other. For example:\n",
    "- A trend-following strategy that performs well in trending markets.\n",
    "- A mean-reversion strategy that excels in range-bound or choppy markets.\n",
    "- A value-based strategy that focuses on long-term fundamentals.\n",
    "\n",
    "Benefit: \n",
    "\n",
    "The combined portfolio can generate more consistent returns across a wider range of market environments."
   ]
  },
  {
   "cell_type": "code",
   "execution_count": 6,
   "id": "5e9f0148",
   "metadata": {},
   "outputs": [
    {
     "name": "stdout",
     "output_type": "stream",
     "text": [
      "Multi-Strategy Portfolio Performance:\n",
      "count    100.000000\n",
      "mean       0.001414\n",
      "std        0.009254\n",
      "min       -0.023763\n",
      "25%       -0.004260\n",
      "50%        0.000902\n",
      "75%        0.006155\n",
      "max        0.021609\n",
      "dtype: float64\n"
     ]
    }
   ],
   "source": [
    "import pandas as pd\n",
    "\n",
    "# Assume you have the daily returns of two different strategies\n",
    "strategy_A_returns = pd.Series(np.random.normal(0.001, 0.01, 100))\n",
    "strategy_B_returns = pd.Series(np.random.normal(0.0005, 0.015, 100))\n",
    "\n",
    "# Combine the strategies into a single portfolio with equal weighting\n",
    "multi_strategy_portfolio = 0.5 * strategy_A_returns + 0.5 * strategy_B_returns\n",
    "\n",
    "print(\"Multi-Strategy Portfolio Performance:\")\n",
    "print(multi_strategy_portfolio.describe())\n"
   ]
  },
  {
   "cell_type": "markdown",
   "metadata": {},
   "source": [
    "## 7. Real-Time Risk Monitoring and Automated Circuit Breakers\n",
    "\n",
    "In today's fast-paced markets, real-time risk monitoring is crucial.\n",
    "\n",
    "Real-Time Monitoring: \n",
    "\n",
    "Use sophisticated analytics to continuously monitor your portfolio's risk exposure using metrics like:\n",
    "- Value at Risk (VaR): The maximum potential loss over a given time period at a certain confidence level.\n",
    "- Conditional Value at Risk (CVaR): The expected loss if the VaR threshold is exceeded.\n",
    "\n",
    "Automated Circuit Breakers: \n",
    "\n",
    "These are pre-programmed rules that automatically halt trading or reduce exposure when certain risk thresholds are breached. This can prevent panic selling and protect against catastrophic losses in a market crash."
   ]
  },
  {
   "cell_type": "code",
   "execution_count": 8,
   "id": "2cfd5feb",
   "metadata": {},
   "outputs": [
    {
     "name": "stdout",
     "output_type": "stream",
     "text": [
      "CIRCUIT BREAKER TRIPPED! VaR of -5.76% exceeds threshold.\n"
     ]
    },
    {
     "data": {
      "text/plain": [
       "True"
      ]
     },
     "execution_count": 8,
     "metadata": {},
     "output_type": "execute_result"
    }
   ],
   "source": [
    "import numpy as np\n",
    "\n",
    "def calculate_var(returns, confidence_level=0.95):\n",
    "    \"\"\"Calculates the Value at Risk (VaR) of a portfolio.\"\"\"\n",
    "    return np.percentile(returns, 100 * (1 - confidence_level))\n",
    "\n",
    "def check_circuit_breaker(portfolio_returns, var_threshold=-0.05):\n",
    "    \"\"\"A simple circuit breaker based on VaR.\"\"\"\n",
    "    current_var = calculate_var(portfolio_returns)\n",
    "    if current_var < var_threshold:\n",
    "        print(f\"CIRCUIT BREAKER TRIPPED! VaR of {current_var:.2%} exceeds threshold.\")\n",
    "        # In a real system, you would halt trading or reduce exposure.\n",
    "        return True\n",
    "    return False\n",
    "\n",
    "# Example with dummy returns\n",
    "portfolio_returns = np.random.normal(-0.01, 0.03, 1000)\n",
    "check_circuit_breaker(portfolio_returns)\n"
   ]
  },
  {
   "cell_type": "markdown",
   "metadata": {},
   "source": [
    "## 8. Integration with Chapter 4 Quantitative Models and Chapter 6 RL Approaches\n",
    "\n",
    "This is about creating a holistic and intelligent investment system by combining different AI techniques.\n",
    "\n",
    "Quantitative Models (from Chapter 4): \n",
    "\n",
    "Use these models to generate the fundamental inputs for your portfolio, such as:\n",
    "- Expected returns for different assets.\n",
    "- Covariance matrices to model how assets move together.\n",
    "\n",
    "Reinforcement Learning (from Chapter 6): \n",
    "\n",
    "Use RL agents to create a dynamic and adaptive layer on top of your quantitative models. The RL agent can learn from market feedback and:\n",
    "- Adjust portfolio allocations in real-time.\n",
    "- Optimize trading execution.\n",
    "- Develop new, emergent strategies over time."
   ]
  },
  {
   "cell_type": "code",
   "execution_count": 9,
   "id": "80dd07b9",
   "metadata": {},
   "outputs": [
    {
     "name": "stdout",
     "output_type": "stream",
     "text": [
      "Final Expected Returns for Optimization:\n",
      "[0.022 0.027 0.015]\n"
     ]
    }
   ],
   "source": [
    "# --- Inputs ---\n",
    "# From a quantitative model (e.g., Chapter 4)\n",
    "quant_expected_returns = np.array([0.02, 0.03, 0.015])\n",
    "\n",
    "# From a reinforcement learning agent (e.g., Chapter 6)\n",
    "# The RL agent might suggest adjustments based on market sentiment or momentum\n",
    "rl_dynamic_weights = np.array([1.1, 0.9, 1.0]) # e.g., overweight asset 1, underweight asset 2\n",
    "\n",
    "# --- Integration ---\n",
    "# The final portfolio allocation can be a combination of these inputs\n",
    "final_expected_returns = quant_expected_returns * rl_dynamic_weights\n",
    "\n",
    "# These final returns would then be used in a portfolio optimizer\n",
    "print(\"Final Expected Returns for Optimization:\")\n",
    "print(final_expected_returns)\n"
   ]
  },
  {
   "cell_type": "markdown",
   "metadata": {},
   "source": [
    "# Summary\n",
    "\n",
    "Chapter 8 explores AI-enhanced portfolio optimization, dynamic rebalancing, risk control mechanisms, drawdown management, and multi-strategy orchestration."
   ]
  }
 ],
 "metadata": {
  "kernelspec": {
   "display_name": "mforge312",
   "language": "python",
   "name": "python3"
  },
  "language_info": {
   "codemirror_mode": {
    "name": "ipython",
    "version": 3
   },
   "file_extension": ".py",
   "mimetype": "text/x-python",
   "name": "python",
   "nbconvert_exporter": "python",
   "pygments_lexer": "ipython3",
   "version": "3.12.11"
  }
 },
 "nbformat": 4,
 "nbformat_minor": 5
}
